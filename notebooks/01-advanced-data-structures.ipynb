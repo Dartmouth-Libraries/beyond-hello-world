{
 "cells": [
  {
   "cell_type": "markdown",
   "metadata": {},
   "source": [
    "# Advanced Data Structures\n",
    "\n",
    "Data structures (or _compound data types_) are the fundamental building blocks that any program or script is made of. Given the almost endless variety of things you can do with the Python standard library, it may be surprising to learn that it actually only contains [a handful of data structures](https://docs.python.org/3/tutorial/datastructures.html#data-structures).\n",
    "\n",
    "In this notebook, we will examine these structures and demonstrate some of related concepts.\n"
   ]
  },
  {
   "cell_type": "markdown",
   "metadata": {},
   "source": [
    "## Lists\n",
    "\n",
    "Lists are collections of values that may be of different types:\n"
   ]
  },
  {
   "cell_type": "code",
   "execution_count": null,
   "metadata": {},
   "outputs": [],
   "source": [
    "even_numbers = [2, 4, 6, 8]"
   ]
  },
  {
   "cell_type": "markdown",
   "metadata": {},
   "source": [
    "Because they store their values in _sequence_, lists can be indexed and sliced:\n"
   ]
  },
  {
   "cell_type": "code",
   "execution_count": null,
   "metadata": {},
   "outputs": [],
   "source": [
    "print(even_numbers[0])\n",
    "print(even_numbers[2])\n",
    "print(even_numbers[-1])\n",
    "print(even_numbers[1:])"
   ]
  },
  {
   "cell_type": "markdown",
   "metadata": {},
   "source": [
    "The values stored in an existing list can be changed, which makes them a _mutable_ type:\n"
   ]
  },
  {
   "cell_type": "code",
   "execution_count": null,
   "metadata": {},
   "outputs": [],
   "source": [
    "even_numbers[0] = 0\n",
    "print(even_numbers)"
   ]
  },
  {
   "cell_type": "markdown",
   "metadata": {},
   "source": [
    "Simple assignment in Python never copies values. So when we create a new variable and assign an _entire_ existing list, a change to the original list also can be seen in the new variable and vice-versa:\n"
   ]
  },
  {
   "cell_type": "code",
   "execution_count": null,
   "metadata": {},
   "outputs": [],
   "source": [
    "evens = even_numbers\n",
    "even_numbers.append(10)\n",
    "print(\"New list:\", evens)\n",
    "print(\"Original list:\", even_numbers)"
   ]
  },
  {
   "cell_type": "markdown",
   "metadata": {},
   "source": [
    "When a list is sliced, however, a new list is created from the values in the slice:\n"
   ]
  },
  {
   "cell_type": "code",
   "execution_count": null,
   "metadata": {},
   "outputs": [],
   "source": [
    "evens = even_numbers[:3]\n",
    "even_numbers[0] = 2\n",
    "print(\"New list:\", evens)\n",
    "print(\"Original list:\", even_numbers)"
   ]
  },
  {
   "cell_type": "markdown",
   "metadata": {},
   "source": [
    "Because they are _iterable_, we can use a list in a for loop (or anywhere else where we need one value at a time):\n"
   ]
  },
  {
   "cell_type": "code",
   "execution_count": null,
   "metadata": {},
   "outputs": [],
   "source": [
    "for number in even_numbers:\n",
    "    print(\"Number:\", number)"
   ]
  },
  {
   "cell_type": "markdown",
   "metadata": {},
   "source": [
    "### Summary:\n",
    "\n",
    "- Lists are a [_mutable_](https://docs.python.org/3/glossary.html#term-mutable) [_sequence_](https://docs.python.org/3/glossary.html#term-sequence) [_iterables_](https://docs.python.org/3/glossary.html#term-iterable)\n"
   ]
  },
  {
   "cell_type": "markdown",
   "metadata": {},
   "source": [
    "## Tuples\n",
    "\n",
    "There is also an _immutable_ sequence iterable called `tuple`. A `tuple` is usually created with round parentheses, but can also be assigned without them. When printed, the parentheses are always included for better readability:\n"
   ]
  },
  {
   "cell_type": "code",
   "execution_count": null,
   "metadata": {},
   "outputs": [],
   "source": [
    "a = 123, 456, \"seven, eight, nine\"\n",
    "print(a)"
   ]
  },
  {
   "cell_type": "markdown",
   "metadata": {},
   "source": [
    "Because it is also a sequence type, we can index and slice a tuple just like we did with the list:\n"
   ]
  },
  {
   "cell_type": "code",
   "execution_count": null,
   "metadata": {},
   "outputs": [],
   "source": [
    "print(a[2])\n",
    "print(a[-2:])"
   ]
  },
  {
   "cell_type": "markdown",
   "metadata": {},
   "source": [
    "Tuples are also iterables and so can be used in a for loop:\n"
   ]
  },
  {
   "cell_type": "code",
   "execution_count": null,
   "metadata": {},
   "outputs": [],
   "source": [
    "for value in a:\n",
    "    print(value)"
   ]
  },
  {
   "cell_type": "markdown",
   "metadata": {},
   "source": [
    "However, since they are _immutable_, we cannot change any value in a tuple:\n"
   ]
  },
  {
   "cell_type": "code",
   "execution_count": null,
   "metadata": {},
   "outputs": [],
   "source": [
    "a[1] = 234"
   ]
  },
  {
   "cell_type": "markdown",
   "metadata": {},
   "source": [
    "Because they are immutable, we do not see the weird effect we observed when changing a list that is referred to by two variables:\n"
   ]
  },
  {
   "cell_type": "code",
   "execution_count": null,
   "metadata": {},
   "outputs": [],
   "source": [
    "b = a\n",
    "a = (1, 2, 3)\n",
    "print(b)\n",
    "print(a)"
   ]
  },
  {
   "cell_type": "markdown",
   "metadata": {},
   "source": [
    "### Summary:\n",
    "\n",
    "- Tuples are [_immutable_](https://docs.python.org/3/glossary.html#term-immutable) [_sequence_](https://docs.python.org/3/glossary.html#term-sequence) [_iterables_](https://docs.python.org/3/glossary.html#term-iterable)\n"
   ]
  },
  {
   "cell_type": "markdown",
   "metadata": {},
   "source": [
    "## Sets\n",
    "\n",
    "You might be wondering if there are also iterables that are not also sequences. The `set` is an unordered collection of values. Each value can only appear once in the `set` (just like in a mathematical set).\n",
    "\n",
    "Sets are created with curly braces or using the `set()` constructor and an iterable:\n"
   ]
  },
  {
   "cell_type": "code",
   "execution_count": null,
   "metadata": {},
   "outputs": [],
   "source": [
    "s = {1, 2, 3, 4, 5}\n",
    "print(s)\n",
    "s = set([3, 6, 9, 12, 12, 12])\n",
    "print(s)"
   ]
  },
  {
   "cell_type": "markdown",
   "metadata": {},
   "source": [
    "Since sets are mutable, we can add or remove elements after the set was created:\n"
   ]
  },
  {
   "cell_type": "code",
   "execution_count": null,
   "metadata": {},
   "outputs": [],
   "source": [
    "s.add(15)\n",
    "s.remove(3)\n",
    "print(s)"
   ]
  },
  {
   "cell_type": "markdown",
   "metadata": {},
   "source": [
    "Sets are _not_ sequence types, so we cannot index or slice them:\n"
   ]
  },
  {
   "cell_type": "code",
   "execution_count": null,
   "metadata": {},
   "outputs": [],
   "source": [
    "s[2]"
   ]
  },
  {
   "cell_type": "markdown",
   "metadata": {},
   "source": [
    "This would not be useful, anyway, because the order of the elements is not guaranteed.\n",
    "\n",
    "Sets are instead meant for situations where we want to test the membership of an item. For example, we might have a set of usernames and want to test whether a particular user is on that list:\n"
   ]
  },
  {
   "cell_type": "code",
   "execution_count": null,
   "metadata": {},
   "outputs": [],
   "source": [
    "admins = set([\"f005efg\", \"g985asd\", \"f883jgh\"])\n",
    "\n",
    "print(\"f006qfp\" in admins)\n",
    "print(\"g985asd\" in admins)"
   ]
  },
  {
   "cell_type": "markdown",
   "metadata": {},
   "source": [
    "Sets are iterable, however, so we can go through all of the values, we just cannot expect any particular order:\n"
   ]
  },
  {
   "cell_type": "code",
   "execution_count": null,
   "metadata": {},
   "outputs": [],
   "source": [
    "for admin in admins:\n",
    "    print(admin)"
   ]
  },
  {
   "cell_type": "markdown",
   "metadata": {},
   "source": [
    "Because sets hash all added values for fast lookup, elements of a set must be [hashable](https://docs.python.org/3/glossary.html#term-hashable). In Python, the built-in immutable objects are hashable, the immutable objects are not.\n",
    "\n",
    "In other words, you can add a tuple to a set, but you cannot add a list to a set:\n"
   ]
  },
  {
   "cell_type": "code",
   "execution_count": null,
   "metadata": {},
   "outputs": [],
   "source": [
    "s = set()\n",
    "l = [1, 2, 3]\n",
    "t = (1, 2, 3)\n",
    "s.add(t)\n",
    "print(\"Set containing a tuple:\", s)\n",
    "s.add(l)"
   ]
  },
  {
   "cell_type": "markdown",
   "metadata": {},
   "source": [
    "Mathematical set logic can be applied to `set`s using methods (which will convert a passed non-set iterable to a set) or using operators (which require both operands to be sets):\n"
   ]
  },
  {
   "cell_type": "code",
   "execution_count": null,
   "metadata": {},
   "outputs": [],
   "source": [
    "a = set([1, 2, 3, 4])\n",
    "b = set((3, 4, 5, 6))\n",
    "print(\"Set a:\", a)\n",
    "print(\"Set b:\", b)\n",
    "print(\"Union a | b:\", a | b)\n",
    "print(\"Diff a - b:\", a - b)\n",
    "print(\"Intersection a & b:\", a & b)\n",
    "print(\"Symmetric difference a ^ b:\", a ^ b)"
   ]
  },
  {
   "cell_type": "markdown",
   "metadata": {},
   "source": [
    "### Summary:\n",
    "\n",
    "- Sets are [mutable](https://docs.python.org/3/glossary.html#term-mutable) unordered [iterables](https://docs.python.org/3/glossary.html#term-iterable) containing [hashable](https://docs.python.org/3/glossary.html#term-hashable) elements\n"
   ]
  },
  {
   "cell_type": "markdown",
   "metadata": {},
   "source": [
    "## Unpacking\n",
    "\n",
    "The elements of an iterable can be _unpacked_ into separate variables. For example:\n"
   ]
  },
  {
   "cell_type": "code",
   "execution_count": null,
   "metadata": {},
   "outputs": [],
   "source": [
    "point = (3, 7)\n",
    "x, y = point\n",
    "print(x)\n",
    "print(y)"
   ]
  },
  {
   "cell_type": "markdown",
   "metadata": {},
   "source": [
    "If we provide fewer variables than there are values in the iterable, an error is raised:\n"
   ]
  },
  {
   "cell_type": "code",
   "execution_count": null,
   "metadata": {},
   "outputs": [],
   "source": [
    "point = (3, 7, 12)\n",
    "x, y = point\n",
    "print(x)\n",
    "print(y)"
   ]
  },
  {
   "cell_type": "markdown",
   "metadata": {},
   "source": [
    "If we do not know the exact number of values beforehand, we can use the `*` operator to specify one of the variables that will receive any otherwise unassigned values (if any):\n"
   ]
  },
  {
   "cell_type": "code",
   "execution_count": null,
   "metadata": {},
   "outputs": [],
   "source": [
    "point = (3, 7, 12)\n",
    "x, y, *z = point\n",
    "print(x)\n",
    "print(y)\n",
    "print(z)\n",
    "\n",
    "point = (7, 12)\n",
    "x, y, *z = point\n",
    "print(x)\n",
    "print(y)\n",
    "print(z)"
   ]
  },
  {
   "cell_type": "markdown",
   "metadata": {},
   "source": [
    "## Dictionaries\n",
    "\n",
    "Dictionaries store key-value-pairs. The values can be anything, but the keys must be hashable objects (which includes `set`, `tuple`, but also `int`, `float`, and `str`).\n",
    "\n",
    "Dictionaries are mutable unordered iterables.\n",
    "\n",
    "They are created using curly braces and key-value syntax, or the `dict()` constructor and named parameter syntax (if the keys are strings):\n"
   ]
  },
  {
   "cell_type": "code",
   "execution_count": null,
   "metadata": {},
   "outputs": [],
   "source": [
    "month = {\"January\": 1, \"February\": 2, \"June\": 6}\n",
    "season = dict(mud=[2, 3, 4], spring=5, summer=[6, 7, 8, 9])"
   ]
  },
  {
   "cell_type": "markdown",
   "metadata": {},
   "source": [
    "Since they are mutable, we can modify values, and add or remove key-value pairs\n"
   ]
  },
  {
   "cell_type": "code",
   "execution_count": null,
   "metadata": {},
   "outputs": [],
   "source": [
    "month[\"April\"] = 4\n",
    "season.pop(\"spring\")\n",
    "season[\"mud\"].append(5)\n",
    "print(season)"
   ]
  },
  {
   "cell_type": "markdown",
   "metadata": {},
   "source": [
    "Dictionaries are iterables. By default, they return only the keys:\n"
   ]
  },
  {
   "cell_type": "code",
   "execution_count": null,
   "metadata": {},
   "outputs": [],
   "source": [
    "for a in season:\n",
    "    print(a)"
   ]
  },
  {
   "cell_type": "markdown",
   "metadata": {},
   "source": [
    "We can retrieve each key-value pair as a `tuple` in the loop by calling the `items()` method:\n"
   ]
  },
  {
   "cell_type": "code",
   "execution_count": null,
   "metadata": {},
   "outputs": [],
   "source": [
    "for item in season.items():\n",
    "    print(item)"
   ]
  },
  {
   "cell_type": "markdown",
   "metadata": {},
   "source": [
    "We can _unpack_ this tuple in the `for` statement and thus create a very readable loop:\n"
   ]
  },
  {
   "cell_type": "code",
   "execution_count": null,
   "metadata": {},
   "outputs": [],
   "source": [
    "for name, months in season.items():\n",
    "    print(name)\n",
    "    print(months)"
   ]
  },
  {
   "cell_type": "markdown",
   "metadata": {},
   "source": [
    "### Summary\n",
    "\n",
    "- Dictionaries are [mutable](https://docs.python.org/3/glossary.html#term-mutable) unordered [iterables](https://docs.python.org/3/glossary.html#term-iterable) containing arbitrary values accessed via [hashable](https://docs.python.org/3/glossary.html#term-hashable) keys\n"
   ]
  },
  {
   "cell_type": "markdown",
   "metadata": {},
   "source": [
    "## Dynamic Typing 🦆\n",
    "\n",
    "In contrast to some other programming languages (e.g., C/C++), you do not need to declare which type a variable is. Even when defining a function, the parameters are not explicitly typed. Instead, Python uses dynamic typing: Any object that has the required methods or allows the required operations is accepted.\n",
    "\n",
    "Take the following function that combines its two parameters using the `+` operator:\n"
   ]
  },
  {
   "cell_type": "code",
   "execution_count": null,
   "metadata": {},
   "outputs": [],
   "source": [
    "def combine(a, b):\n",
    "    return a + b"
   ]
  },
  {
   "cell_type": "markdown",
   "metadata": {},
   "source": [
    "We can call this function with any arguments (values for `a` and `b`) that allow the `+` operation:\n"
   ]
  },
  {
   "cell_type": "code",
   "execution_count": null,
   "metadata": {},
   "outputs": [],
   "source": [
    "print(combine(3, 4))\n",
    "print(combine(\"Simon\", \"Stone\"))\n",
    "print(combine([1, 2, 3], [4, 5, 6]))"
   ]
  },
  {
   "cell_type": "markdown",
   "metadata": {},
   "source": [
    "This technique is therefore often called _duck typing_: If it walks like a duck, and quacks like a duck, it is (close enough to) a duck.\n",
    "\n",
    "The problem here is that we often do not see the implementation of a function (e.g., when using functions from an imported module) and even if we can, it would be quite a hassle to go over the function body and figure out all the requirements that the arguments need to fulfill so that the function succeeds. It would be equally annoying to go through a trial and error process.\n",
    "\n",
    "The documentation of a function might list a specific type, but that would defeat the purpose of dynamic typing. What if there is another type that the authors of the documentation were not aware of that could also be successfully used in the function?\n",
    "\n",
    "To reconcile these two extremes, Python documentations therefore often list broader categories of types instead of specific type. If, for example, a function accepts any object that offers a `read()` and `write()` method, the documentation might say that the argument should be a `file-like` object. Similarly, an `iterable` might be called for instead of a a `list`. In this case, the function should work for any `iterable` (including `tuple` and `set`).\n"
   ]
  },
  {
   "cell_type": "markdown",
   "metadata": {},
   "source": [
    "<table >\n",
    "<tbody>\n",
    "  <tr>\n",
    "    <td style=\"padding:0px;border-width:0px;vertical-align:center\">    \n",
    "    Created by Simon Stone for Dartmouth College Library under <a href=\"https://creativecommons.org/licenses/by/4.0/\">Creative Commons CC BY-NC 4.0 License</a>.<br>For questions, comments, or improvements, email <a href=\"mailto:researchdatahelp@groups.dartmouth.edu\">Research Data Services</a>.\n",
    "    </td>\n",
    "    <td style=\"padding:0 0 0 1em;border-width:0px;vertical-align:center\"><img alt=\"Creative Commons License\" src=\"https://i.creativecommons.org/l/by/4.0/88x31.png\"/></td>\n",
    "  </tr>\n",
    "</tbody>\n",
    "</table>\n"
   ]
  }
 ],
 "metadata": {
  "kernelspec": {
   "display_name": ".venv",
   "language": "python",
   "name": "python3"
  },
  "language_info": {
   "codemirror_mode": {
    "name": "ipython",
    "version": 3
   },
   "file_extension": ".py",
   "mimetype": "text/x-python",
   "name": "python",
   "nbconvert_exporter": "python",
   "pygments_lexer": "ipython3",
   "version": "3.12.2"
  }
 },
 "nbformat": 4,
 "nbformat_minor": 2
}
