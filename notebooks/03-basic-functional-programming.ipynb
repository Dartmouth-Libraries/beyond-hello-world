{
 "cells": [
  {
   "cell_type": "markdown",
   "metadata": {},
   "source": [
    "# Basic functional programming in Python\n",
    "\n",
    "Functions in Python are objects and can be passed to other functions. This allows the implementation of some interesting concepts from the paradigm of functional programming.\n",
    "\n",
    "In this notebook, we will discuss functions as objects, anonymous functions or lambda expressions, and the functions `map` and `filter` that make use of these concepts.\n"
   ]
  },
  {
   "cell_type": "markdown",
   "metadata": {},
   "source": [
    "## Functions as objects\n",
    "\n",
    "In Python, functions are objects just like any other non-keyword element in the language.\n",
    "\n",
    "We can see that by checking the type of any function:\n"
   ]
  },
  {
   "cell_type": "code",
   "execution_count": null,
   "metadata": {},
   "outputs": [],
   "source": [
    "def my_function():\n",
    "    print(\"I am a function!\")\n",
    "\n",
    "\n",
    "type(my_function)"
   ]
  },
  {
   "cell_type": "markdown",
   "metadata": {},
   "source": [
    "Note that when we are passing the function `my_function` to `type()`, we are not using the round parentheses! That is because those are only necessary when we _call_ the function, i.e. execute the function's body. Here, we are just passing a referene to the _function object_ itself.\n",
    "\n",
    "We could therefore create a function that accepts a function and another argument, and then applies the function to that argument:\n"
   ]
  },
  {
   "cell_type": "code",
   "execution_count": null,
   "metadata": {},
   "outputs": [],
   "source": [
    "def apply_function(func, x):\n",
    "    return func(x)\n",
    "\n",
    "\n",
    "apply_function(int, \"10\")"
   ]
  },
  {
   "cell_type": "markdown",
   "metadata": {},
   "source": [
    "### Summary:\n",
    "\n",
    "- Functions are objects and can be passed around just like any other object (e.g., integers or strings)\n",
    "- When passing a function as an object, we do not use the parentheses but only its name\n"
   ]
  },
  {
   "cell_type": "markdown",
   "metadata": {},
   "source": [
    "## `map` and `filter`\n",
    "\n",
    "The usefulness of functions as objects may not be immediately obious from the example above. However, there are three built-in functions that better demonstrate the power of function objects. For example, we can apply a function to each element of an interable using the `map` function:\n"
   ]
  },
  {
   "cell_type": "code",
   "execution_count": null,
   "metadata": {},
   "outputs": [],
   "source": [
    "def add_one(x):\n",
    "    return x + 1\n",
    "\n",
    "\n",
    "numbers = [1, 2, 3, 4]\n",
    "\n",
    "larger_numbers = map(add_one, numbers)\n",
    "print(larger_numbers)"
   ]
  },
  {
   "cell_type": "markdown",
   "metadata": {},
   "source": [
    "`map` creates a generator, so if we want to see the results right away, we need to convert it into a list:\n"
   ]
  },
  {
   "cell_type": "code",
   "execution_count": null,
   "metadata": {},
   "outputs": [],
   "source": [
    "print(list(larger_numbers))"
   ]
  },
  {
   "cell_type": "markdown",
   "metadata": {},
   "source": [
    "This is equivalent to:\n"
   ]
  },
  {
   "cell_type": "code",
   "execution_count": null,
   "metadata": {},
   "outputs": [],
   "source": [
    "larger_numbers = []\n",
    "for number in numbers:\n",
    "    larger_numbers.append(add_one(number))"
   ]
  },
  {
   "cell_type": "markdown",
   "metadata": {},
   "source": [
    "`filter` takes a function object that returns either `True` or `False` (a _predicate_), and an iterable. It returns the elements from the iterable for which the function returns `True`:\n"
   ]
  },
  {
   "cell_type": "code",
   "execution_count": null,
   "metadata": {},
   "outputs": [],
   "source": [
    "def is_even(x):\n",
    "    return x % 2 == 0\n",
    "\n",
    "\n",
    "numbers = [2, 3, 4, 5, 6]\n",
    "\n",
    "even_numbers = filter(is_even, numbers)\n",
    "print(list(even_numbers))"
   ]
  },
  {
   "cell_type": "markdown",
   "metadata": {},
   "source": [
    "This is equivalent to:\n"
   ]
  },
  {
   "cell_type": "code",
   "execution_count": null,
   "metadata": {},
   "outputs": [],
   "source": [
    "even_numbers = []\n",
    "for number in numbers:\n",
    "    if is_even(number):\n",
    "        even_numbers.append(number)"
   ]
  },
  {
   "cell_type": "markdown",
   "metadata": {},
   "source": [
    "### Summary:\n",
    "\n",
    "- `map` applies a function to each element in an iterable\n",
    "- `filter` constructs an iterable from those elements of an iterable for which a function is true\n"
   ]
  },
  {
   "cell_type": "markdown",
   "metadata": {},
   "source": [
    "## Anonymous functions\n",
    "\n",
    "The functions used in `map`, `filter`, or similar contexts are often very small. They are also often only used in a single spot in your program. To write more concise code, Python offers anonymous functions or _lambda expressions_ that are essentially short-hand notations (syntactic sugar) for functions consisting of just a single statement.\n",
    "\n",
    "A lambda expression is defined using the keyword `lambda` and creates a function object:\n"
   ]
  },
  {
   "cell_type": "code",
   "execution_count": null,
   "metadata": {},
   "outputs": [],
   "source": [
    "type(lambda x: x + 1)  # Equivalent to add_one() defined above"
   ]
  },
  {
   "cell_type": "markdown",
   "metadata": {},
   "source": [
    "You can use a lambda expression wherever a function object is required. So we can rewrite the examples above using lambda expressions:\n"
   ]
  },
  {
   "cell_type": "code",
   "execution_count": null,
   "metadata": {},
   "outputs": [],
   "source": [
    "print(list(map(lambda x: x + 1, numbers)))\n",
    "print(list(filter(lambda x: x % 2 == 0, numbers)))"
   ]
  },
  {
   "cell_type": "markdown",
   "metadata": {},
   "source": [
    "### Summary:\n",
    "\n",
    "- Lambda expressions are anonymous functions that consist of only a single expression\n",
    "- Lambda expressions can be used anywhere a function object is required\n"
   ]
  },
  {
   "cell_type": "markdown",
   "metadata": {},
   "source": [
    "<table >\n",
    "<tbody>\n",
    "  <tr>\n",
    "    <td style=\"padding:0px;border-width:0px;vertical-align:center\">    \n",
    "    Created by Simon Stone for Dartmouth College Library under <a href=\"https://creativecommons.org/licenses/by/4.0/\">Creative Commons CC BY-NC 4.0 License</a>.<br>For questions, comments, or improvements, email <a href=\"mailto:researchdatahelp@groups.dartmouth.edu\">Research Data Services</a>.\n",
    "    </td>\n",
    "    <td style=\"padding:0 0 0 1em;border-width:0px;vertical-align:center\"><img alt=\"Creative Commons License\" src=\"https://i.creativecommons.org/l/by/4.0/88x31.png\"/></td>\n",
    "  </tr>\n",
    "</tbody>\n",
    "</table>\n"
   ]
  }
 ],
 "metadata": {
  "kernelspec": {
   "display_name": ".venv",
   "language": "python",
   "name": "python3"
  },
  "language_info": {
   "codemirror_mode": {
    "name": "ipython",
    "version": 3
   },
   "file_extension": ".py",
   "mimetype": "text/x-python",
   "name": "python",
   "nbconvert_exporter": "python",
   "pygments_lexer": "ipython3",
   "version": "3.12.2"
  }
 },
 "nbformat": 4,
 "nbformat_minor": 2
}
